{
  "nbformat": 4,
  "nbformat_minor": 0,
  "metadata": {
    "colab": {
      "provenance": [],
      "authorship_tag": "ABX9TyOaPxsM8nTHoGM/WJDel0aQ",
      "include_colab_link": true
    },
    "kernelspec": {
      "name": "python3",
      "display_name": "Python 3"
    },
    "language_info": {
      "name": "python"
    }
  },
  "cells": [
    {
      "cell_type": "markdown",
      "metadata": {
        "id": "view-in-github",
        "colab_type": "text"
      },
      "source": [
        "<a href=\"https://colab.research.google.com/github/Kaizer1er/DeepCropMapping/blob/master/Crops_detection.ipynb\" target=\"_parent\"><img src=\"https://colab.research.google.com/assets/colab-badge.svg\" alt=\"Open In Colab\"/></a>"
      ]
    },
    {
      "cell_type": "code",
      "execution_count": 1,
      "metadata": {
        "colab": {
          "base_uri": "https://localhost:8080/"
        },
        "collapsed": true,
        "id": "mY8vXK4ce2CK",
        "outputId": "1c312308-7d88-4c91-a217-dcde9e4b4ce8"
      },
      "outputs": [
        {
          "output_type": "stream",
          "name": "stdout",
          "text": [
            "Requirement already satisfied: tensorflow in /usr/local/lib/python3.11/dist-packages (2.18.0)\n",
            "Requirement already satisfied: absl-py>=1.0.0 in /usr/local/lib/python3.11/dist-packages (from tensorflow) (1.4.0)\n",
            "Requirement already satisfied: astunparse>=1.6.0 in /usr/local/lib/python3.11/dist-packages (from tensorflow) (1.6.3)\n",
            "Requirement already satisfied: flatbuffers>=24.3.25 in /usr/local/lib/python3.11/dist-packages (from tensorflow) (25.2.10)\n",
            "Requirement already satisfied: gast!=0.5.0,!=0.5.1,!=0.5.2,>=0.2.1 in /usr/local/lib/python3.11/dist-packages (from tensorflow) (0.6.0)\n",
            "Requirement already satisfied: google-pasta>=0.1.1 in /usr/local/lib/python3.11/dist-packages (from tensorflow) (0.2.0)\n",
            "Requirement already satisfied: libclang>=13.0.0 in /usr/local/lib/python3.11/dist-packages (from tensorflow) (18.1.1)\n",
            "Requirement already satisfied: opt-einsum>=2.3.2 in /usr/local/lib/python3.11/dist-packages (from tensorflow) (3.4.0)\n",
            "Requirement already satisfied: packaging in /usr/local/lib/python3.11/dist-packages (from tensorflow) (24.2)\n",
            "Requirement already satisfied: protobuf!=4.21.0,!=4.21.1,!=4.21.2,!=4.21.3,!=4.21.4,!=4.21.5,<6.0.0dev,>=3.20.3 in /usr/local/lib/python3.11/dist-packages (from tensorflow) (4.25.6)\n",
            "Requirement already satisfied: requests<3,>=2.21.0 in /usr/local/lib/python3.11/dist-packages (from tensorflow) (2.32.3)\n",
            "Requirement already satisfied: setuptools in /usr/local/lib/python3.11/dist-packages (from tensorflow) (75.1.0)\n",
            "Requirement already satisfied: six>=1.12.0 in /usr/local/lib/python3.11/dist-packages (from tensorflow) (1.17.0)\n",
            "Requirement already satisfied: termcolor>=1.1.0 in /usr/local/lib/python3.11/dist-packages (from tensorflow) (2.5.0)\n",
            "Requirement already satisfied: typing-extensions>=3.6.6 in /usr/local/lib/python3.11/dist-packages (from tensorflow) (4.12.2)\n",
            "Requirement already satisfied: wrapt>=1.11.0 in /usr/local/lib/python3.11/dist-packages (from tensorflow) (1.17.2)\n",
            "Requirement already satisfied: grpcio<2.0,>=1.24.3 in /usr/local/lib/python3.11/dist-packages (from tensorflow) (1.70.0)\n",
            "Requirement already satisfied: tensorboard<2.19,>=2.18 in /usr/local/lib/python3.11/dist-packages (from tensorflow) (2.18.0)\n",
            "Requirement already satisfied: keras>=3.5.0 in /usr/local/lib/python3.11/dist-packages (from tensorflow) (3.8.0)\n",
            "Requirement already satisfied: numpy<2.1.0,>=1.26.0 in /usr/local/lib/python3.11/dist-packages (from tensorflow) (1.26.4)\n",
            "Requirement already satisfied: h5py>=3.11.0 in /usr/local/lib/python3.11/dist-packages (from tensorflow) (3.12.1)\n",
            "Requirement already satisfied: ml-dtypes<0.5.0,>=0.4.0 in /usr/local/lib/python3.11/dist-packages (from tensorflow) (0.4.1)\n",
            "Requirement already satisfied: tensorflow-io-gcs-filesystem>=0.23.1 in /usr/local/lib/python3.11/dist-packages (from tensorflow) (0.37.1)\n",
            "Requirement already satisfied: wheel<1.0,>=0.23.0 in /usr/local/lib/python3.11/dist-packages (from astunparse>=1.6.0->tensorflow) (0.45.1)\n",
            "Requirement already satisfied: rich in /usr/local/lib/python3.11/dist-packages (from keras>=3.5.0->tensorflow) (13.9.4)\n",
            "Requirement already satisfied: namex in /usr/local/lib/python3.11/dist-packages (from keras>=3.5.0->tensorflow) (0.0.8)\n",
            "Requirement already satisfied: optree in /usr/local/lib/python3.11/dist-packages (from keras>=3.5.0->tensorflow) (0.14.0)\n",
            "Requirement already satisfied: charset-normalizer<4,>=2 in /usr/local/lib/python3.11/dist-packages (from requests<3,>=2.21.0->tensorflow) (3.4.1)\n",
            "Requirement already satisfied: idna<4,>=2.5 in /usr/local/lib/python3.11/dist-packages (from requests<3,>=2.21.0->tensorflow) (3.10)\n",
            "Requirement already satisfied: urllib3<3,>=1.21.1 in /usr/local/lib/python3.11/dist-packages (from requests<3,>=2.21.0->tensorflow) (2.3.0)\n",
            "Requirement already satisfied: certifi>=2017.4.17 in /usr/local/lib/python3.11/dist-packages (from requests<3,>=2.21.0->tensorflow) (2025.1.31)\n",
            "Requirement already satisfied: markdown>=2.6.8 in /usr/local/lib/python3.11/dist-packages (from tensorboard<2.19,>=2.18->tensorflow) (3.7)\n",
            "Requirement already satisfied: tensorboard-data-server<0.8.0,>=0.7.0 in /usr/local/lib/python3.11/dist-packages (from tensorboard<2.19,>=2.18->tensorflow) (0.7.2)\n",
            "Requirement already satisfied: werkzeug>=1.0.1 in /usr/local/lib/python3.11/dist-packages (from tensorboard<2.19,>=2.18->tensorflow) (3.1.3)\n",
            "Requirement already satisfied: MarkupSafe>=2.1.1 in /usr/local/lib/python3.11/dist-packages (from werkzeug>=1.0.1->tensorboard<2.19,>=2.18->tensorflow) (3.0.2)\n",
            "Requirement already satisfied: markdown-it-py>=2.2.0 in /usr/local/lib/python3.11/dist-packages (from rich->keras>=3.5.0->tensorflow) (3.0.0)\n",
            "Requirement already satisfied: pygments<3.0.0,>=2.13.0 in /usr/local/lib/python3.11/dist-packages (from rich->keras>=3.5.0->tensorflow) (2.18.0)\n",
            "Requirement already satisfied: mdurl~=0.1 in /usr/local/lib/python3.11/dist-packages (from markdown-it-py>=2.2.0->rich->keras>=3.5.0->tensorflow) (0.1.2)\n"
          ]
        }
      ],
      "source": [
        "pip install tensorflow"
      ]
    },
    {
      "cell_type": "code",
      "source": [
        "# Modules de traitement des données satellitaires dans l'environnement Python\n",
        "import pandas as pd\n",
        "import numpy as np\n",
        "import glob\n",
        "import os\n",
        "import random as rd\n",
        "from PIL import Image\n",
        "import tensorflow as tf  # type: ignore\n",
        "import seaborn as sns\n",
        "\n",
        "from tensorflow.keras import Model # type: ignore\n",
        "#from tensorflow.keras.layers import Input, Dense, Dropout, Flatten, Conv1D # type: ignore\n",
        "\n",
        "from sklearn.preprocessing import LabelEncoder\n",
        "import matplotlib.pyplot as plt\n",
        "import seaborn as sns\n",
        "from sklearn.metrics import confusion_matrix, accuracy_score, precision_score, recall_score, f1_score\n",
        "import itertools"
      ],
      "metadata": {
        "id": "PJbDQ1hdfJjf"
      },
      "execution_count": 2,
      "outputs": []
    },
    {
      "cell_type": "code",
      "source": [
        "# Importation du csv\n",
        "df_pickle = pd.read_csv(r\"/content/Data_base2021.csv\", sep=';')\n",
        "\n",
        "# Visuel de l'organisation de la data base\n",
        "df_pickle.head()"
      ],
      "metadata": {
        "colab": {
          "base_uri": "https://localhost:8080/",
          "height": 255
        },
        "id": "VRLn7TgefflH",
        "outputId": "af510d39-b1c5-41a3-e712-201d536a1fe8"
      },
      "execution_count": 6,
      "outputs": [
        {
          "output_type": "execute_result",
          "data": {
            "text/plain": [
              "   Cultures  ID_Parcels         1         2         3         4         5  \\\n",
              "0       Blé    10890103  0.179041  0.142865  0.114165  0.092311  0.076676   \n",
              "1      Maïs    10890255  0.138893  0.124600  0.111369  0.099169  0.087970   \n",
              "2  Fourrage    10890258  0.179674  0.136643  0.101192  0.072763  0.050797   \n",
              "3       Blé    10890627  0.128005  0.125288  0.122771  0.120450  0.118322   \n",
              "4       Blé    10893218  0.169883  0.141369  0.119436  0.103511  0.093020   \n",
              "\n",
              "          6         7         8  ...       356       357       358       359  \\\n",
              "0  0.066632  0.061550  0.060802  ...  0.158151  0.176280  0.194238  0.211317   \n",
              "1  0.077744  0.068460  0.060090  ...  0.164158  0.169893  0.176925  0.185411   \n",
              "2  0.034735  0.024020  0.018093  ...  0.727235  0.743082  0.755639  0.765134   \n",
              "3  0.116384  0.114633  0.113065  ...  0.195004  0.193785  0.191962  0.189505   \n",
              "4  0.087390  0.086048  0.088422  ...  0.287293  0.326865  0.367222  0.406222   \n",
              "\n",
              "        360       361       362       363       364       365  \n",
              "0  0.226808  0.240003  0.250192  0.256669  0.258724  0.255648  \n",
              "1  0.195507  0.207369  0.221152  0.237013  0.255107  0.275591  \n",
              "2  0.771792  0.775841  0.777507  0.777016  0.774596  0.770473  \n",
              "3  0.186386  0.182574  0.178043  0.172761  0.166701  0.159833  \n",
              "4  0.441722  0.471580  0.493652  0.505797  0.505870  0.491731  \n",
              "\n",
              "[5 rows x 367 columns]"
            ],
            "text/html": [
              "\n",
              "  <div id=\"df-bda87067-ba48-401d-8c20-b36f8604382a\" class=\"colab-df-container\">\n",
              "    <div>\n",
              "<style scoped>\n",
              "    .dataframe tbody tr th:only-of-type {\n",
              "        vertical-align: middle;\n",
              "    }\n",
              "\n",
              "    .dataframe tbody tr th {\n",
              "        vertical-align: top;\n",
              "    }\n",
              "\n",
              "    .dataframe thead th {\n",
              "        text-align: right;\n",
              "    }\n",
              "</style>\n",
              "<table border=\"1\" class=\"dataframe\">\n",
              "  <thead>\n",
              "    <tr style=\"text-align: right;\">\n",
              "      <th></th>\n",
              "      <th>Cultures</th>\n",
              "      <th>ID_Parcels</th>\n",
              "      <th>1</th>\n",
              "      <th>2</th>\n",
              "      <th>3</th>\n",
              "      <th>4</th>\n",
              "      <th>5</th>\n",
              "      <th>6</th>\n",
              "      <th>7</th>\n",
              "      <th>8</th>\n",
              "      <th>...</th>\n",
              "      <th>356</th>\n",
              "      <th>357</th>\n",
              "      <th>358</th>\n",
              "      <th>359</th>\n",
              "      <th>360</th>\n",
              "      <th>361</th>\n",
              "      <th>362</th>\n",
              "      <th>363</th>\n",
              "      <th>364</th>\n",
              "      <th>365</th>\n",
              "    </tr>\n",
              "  </thead>\n",
              "  <tbody>\n",
              "    <tr>\n",
              "      <th>0</th>\n",
              "      <td>Blé</td>\n",
              "      <td>10890103</td>\n",
              "      <td>0.179041</td>\n",
              "      <td>0.142865</td>\n",
              "      <td>0.114165</td>\n",
              "      <td>0.092311</td>\n",
              "      <td>0.076676</td>\n",
              "      <td>0.066632</td>\n",
              "      <td>0.061550</td>\n",
              "      <td>0.060802</td>\n",
              "      <td>...</td>\n",
              "      <td>0.158151</td>\n",
              "      <td>0.176280</td>\n",
              "      <td>0.194238</td>\n",
              "      <td>0.211317</td>\n",
              "      <td>0.226808</td>\n",
              "      <td>0.240003</td>\n",
              "      <td>0.250192</td>\n",
              "      <td>0.256669</td>\n",
              "      <td>0.258724</td>\n",
              "      <td>0.255648</td>\n",
              "    </tr>\n",
              "    <tr>\n",
              "      <th>1</th>\n",
              "      <td>Maïs</td>\n",
              "      <td>10890255</td>\n",
              "      <td>0.138893</td>\n",
              "      <td>0.124600</td>\n",
              "      <td>0.111369</td>\n",
              "      <td>0.099169</td>\n",
              "      <td>0.087970</td>\n",
              "      <td>0.077744</td>\n",
              "      <td>0.068460</td>\n",
              "      <td>0.060090</td>\n",
              "      <td>...</td>\n",
              "      <td>0.164158</td>\n",
              "      <td>0.169893</td>\n",
              "      <td>0.176925</td>\n",
              "      <td>0.185411</td>\n",
              "      <td>0.195507</td>\n",
              "      <td>0.207369</td>\n",
              "      <td>0.221152</td>\n",
              "      <td>0.237013</td>\n",
              "      <td>0.255107</td>\n",
              "      <td>0.275591</td>\n",
              "    </tr>\n",
              "    <tr>\n",
              "      <th>2</th>\n",
              "      <td>Fourrage</td>\n",
              "      <td>10890258</td>\n",
              "      <td>0.179674</td>\n",
              "      <td>0.136643</td>\n",
              "      <td>0.101192</td>\n",
              "      <td>0.072763</td>\n",
              "      <td>0.050797</td>\n",
              "      <td>0.034735</td>\n",
              "      <td>0.024020</td>\n",
              "      <td>0.018093</td>\n",
              "      <td>...</td>\n",
              "      <td>0.727235</td>\n",
              "      <td>0.743082</td>\n",
              "      <td>0.755639</td>\n",
              "      <td>0.765134</td>\n",
              "      <td>0.771792</td>\n",
              "      <td>0.775841</td>\n",
              "      <td>0.777507</td>\n",
              "      <td>0.777016</td>\n",
              "      <td>0.774596</td>\n",
              "      <td>0.770473</td>\n",
              "    </tr>\n",
              "    <tr>\n",
              "      <th>3</th>\n",
              "      <td>Blé</td>\n",
              "      <td>10890627</td>\n",
              "      <td>0.128005</td>\n",
              "      <td>0.125288</td>\n",
              "      <td>0.122771</td>\n",
              "      <td>0.120450</td>\n",
              "      <td>0.118322</td>\n",
              "      <td>0.116384</td>\n",
              "      <td>0.114633</td>\n",
              "      <td>0.113065</td>\n",
              "      <td>...</td>\n",
              "      <td>0.195004</td>\n",
              "      <td>0.193785</td>\n",
              "      <td>0.191962</td>\n",
              "      <td>0.189505</td>\n",
              "      <td>0.186386</td>\n",
              "      <td>0.182574</td>\n",
              "      <td>0.178043</td>\n",
              "      <td>0.172761</td>\n",
              "      <td>0.166701</td>\n",
              "      <td>0.159833</td>\n",
              "    </tr>\n",
              "    <tr>\n",
              "      <th>4</th>\n",
              "      <td>Blé</td>\n",
              "      <td>10893218</td>\n",
              "      <td>0.169883</td>\n",
              "      <td>0.141369</td>\n",
              "      <td>0.119436</td>\n",
              "      <td>0.103511</td>\n",
              "      <td>0.093020</td>\n",
              "      <td>0.087390</td>\n",
              "      <td>0.086048</td>\n",
              "      <td>0.088422</td>\n",
              "      <td>...</td>\n",
              "      <td>0.287293</td>\n",
              "      <td>0.326865</td>\n",
              "      <td>0.367222</td>\n",
              "      <td>0.406222</td>\n",
              "      <td>0.441722</td>\n",
              "      <td>0.471580</td>\n",
              "      <td>0.493652</td>\n",
              "      <td>0.505797</td>\n",
              "      <td>0.505870</td>\n",
              "      <td>0.491731</td>\n",
              "    </tr>\n",
              "  </tbody>\n",
              "</table>\n",
              "<p>5 rows × 367 columns</p>\n",
              "</div>\n",
              "    <div class=\"colab-df-buttons\">\n",
              "\n",
              "  <div class=\"colab-df-container\">\n",
              "    <button class=\"colab-df-convert\" onclick=\"convertToInteractive('df-bda87067-ba48-401d-8c20-b36f8604382a')\"\n",
              "            title=\"Convert this dataframe to an interactive table.\"\n",
              "            style=\"display:none;\">\n",
              "\n",
              "  <svg xmlns=\"http://www.w3.org/2000/svg\" height=\"24px\" viewBox=\"0 -960 960 960\">\n",
              "    <path d=\"M120-120v-720h720v720H120Zm60-500h600v-160H180v160Zm220 220h160v-160H400v160Zm0 220h160v-160H400v160ZM180-400h160v-160H180v160Zm440 0h160v-160H620v160ZM180-180h160v-160H180v160Zm440 0h160v-160H620v160Z\"/>\n",
              "  </svg>\n",
              "    </button>\n",
              "\n",
              "  <style>\n",
              "    .colab-df-container {\n",
              "      display:flex;\n",
              "      gap: 12px;\n",
              "    }\n",
              "\n",
              "    .colab-df-convert {\n",
              "      background-color: #E8F0FE;\n",
              "      border: none;\n",
              "      border-radius: 50%;\n",
              "      cursor: pointer;\n",
              "      display: none;\n",
              "      fill: #1967D2;\n",
              "      height: 32px;\n",
              "      padding: 0 0 0 0;\n",
              "      width: 32px;\n",
              "    }\n",
              "\n",
              "    .colab-df-convert:hover {\n",
              "      background-color: #E2EBFA;\n",
              "      box-shadow: 0px 1px 2px rgba(60, 64, 67, 0.3), 0px 1px 3px 1px rgba(60, 64, 67, 0.15);\n",
              "      fill: #174EA6;\n",
              "    }\n",
              "\n",
              "    .colab-df-buttons div {\n",
              "      margin-bottom: 4px;\n",
              "    }\n",
              "\n",
              "    [theme=dark] .colab-df-convert {\n",
              "      background-color: #3B4455;\n",
              "      fill: #D2E3FC;\n",
              "    }\n",
              "\n",
              "    [theme=dark] .colab-df-convert:hover {\n",
              "      background-color: #434B5C;\n",
              "      box-shadow: 0px 1px 3px 1px rgba(0, 0, 0, 0.15);\n",
              "      filter: drop-shadow(0px 1px 2px rgba(0, 0, 0, 0.3));\n",
              "      fill: #FFFFFF;\n",
              "    }\n",
              "  </style>\n",
              "\n",
              "    <script>\n",
              "      const buttonEl =\n",
              "        document.querySelector('#df-bda87067-ba48-401d-8c20-b36f8604382a button.colab-df-convert');\n",
              "      buttonEl.style.display =\n",
              "        google.colab.kernel.accessAllowed ? 'block' : 'none';\n",
              "\n",
              "      async function convertToInteractive(key) {\n",
              "        const element = document.querySelector('#df-bda87067-ba48-401d-8c20-b36f8604382a');\n",
              "        const dataTable =\n",
              "          await google.colab.kernel.invokeFunction('convertToInteractive',\n",
              "                                                    [key], {});\n",
              "        if (!dataTable) return;\n",
              "\n",
              "        const docLinkHtml = 'Like what you see? Visit the ' +\n",
              "          '<a target=\"_blank\" href=https://colab.research.google.com/notebooks/data_table.ipynb>data table notebook</a>'\n",
              "          + ' to learn more about interactive tables.';\n",
              "        element.innerHTML = '';\n",
              "        dataTable['output_type'] = 'display_data';\n",
              "        await google.colab.output.renderOutput(dataTable, element);\n",
              "        const docLink = document.createElement('div');\n",
              "        docLink.innerHTML = docLinkHtml;\n",
              "        element.appendChild(docLink);\n",
              "      }\n",
              "    </script>\n",
              "  </div>\n",
              "\n",
              "\n",
              "<div id=\"df-45e4f279-14ec-4d1e-8341-3323b8ad90d6\">\n",
              "  <button class=\"colab-df-quickchart\" onclick=\"quickchart('df-45e4f279-14ec-4d1e-8341-3323b8ad90d6')\"\n",
              "            title=\"Suggest charts\"\n",
              "            style=\"display:none;\">\n",
              "\n",
              "<svg xmlns=\"http://www.w3.org/2000/svg\" height=\"24px\"viewBox=\"0 0 24 24\"\n",
              "     width=\"24px\">\n",
              "    <g>\n",
              "        <path d=\"M19 3H5c-1.1 0-2 .9-2 2v14c0 1.1.9 2 2 2h14c1.1 0 2-.9 2-2V5c0-1.1-.9-2-2-2zM9 17H7v-7h2v7zm4 0h-2V7h2v10zm4 0h-2v-4h2v4z\"/>\n",
              "    </g>\n",
              "</svg>\n",
              "  </button>\n",
              "\n",
              "<style>\n",
              "  .colab-df-quickchart {\n",
              "      --bg-color: #E8F0FE;\n",
              "      --fill-color: #1967D2;\n",
              "      --hover-bg-color: #E2EBFA;\n",
              "      --hover-fill-color: #174EA6;\n",
              "      --disabled-fill-color: #AAA;\n",
              "      --disabled-bg-color: #DDD;\n",
              "  }\n",
              "\n",
              "  [theme=dark] .colab-df-quickchart {\n",
              "      --bg-color: #3B4455;\n",
              "      --fill-color: #D2E3FC;\n",
              "      --hover-bg-color: #434B5C;\n",
              "      --hover-fill-color: #FFFFFF;\n",
              "      --disabled-bg-color: #3B4455;\n",
              "      --disabled-fill-color: #666;\n",
              "  }\n",
              "\n",
              "  .colab-df-quickchart {\n",
              "    background-color: var(--bg-color);\n",
              "    border: none;\n",
              "    border-radius: 50%;\n",
              "    cursor: pointer;\n",
              "    display: none;\n",
              "    fill: var(--fill-color);\n",
              "    height: 32px;\n",
              "    padding: 0;\n",
              "    width: 32px;\n",
              "  }\n",
              "\n",
              "  .colab-df-quickchart:hover {\n",
              "    background-color: var(--hover-bg-color);\n",
              "    box-shadow: 0 1px 2px rgba(60, 64, 67, 0.3), 0 1px 3px 1px rgba(60, 64, 67, 0.15);\n",
              "    fill: var(--button-hover-fill-color);\n",
              "  }\n",
              "\n",
              "  .colab-df-quickchart-complete:disabled,\n",
              "  .colab-df-quickchart-complete:disabled:hover {\n",
              "    background-color: var(--disabled-bg-color);\n",
              "    fill: var(--disabled-fill-color);\n",
              "    box-shadow: none;\n",
              "  }\n",
              "\n",
              "  .colab-df-spinner {\n",
              "    border: 2px solid var(--fill-color);\n",
              "    border-color: transparent;\n",
              "    border-bottom-color: var(--fill-color);\n",
              "    animation:\n",
              "      spin 1s steps(1) infinite;\n",
              "  }\n",
              "\n",
              "  @keyframes spin {\n",
              "    0% {\n",
              "      border-color: transparent;\n",
              "      border-bottom-color: var(--fill-color);\n",
              "      border-left-color: var(--fill-color);\n",
              "    }\n",
              "    20% {\n",
              "      border-color: transparent;\n",
              "      border-left-color: var(--fill-color);\n",
              "      border-top-color: var(--fill-color);\n",
              "    }\n",
              "    30% {\n",
              "      border-color: transparent;\n",
              "      border-left-color: var(--fill-color);\n",
              "      border-top-color: var(--fill-color);\n",
              "      border-right-color: var(--fill-color);\n",
              "    }\n",
              "    40% {\n",
              "      border-color: transparent;\n",
              "      border-right-color: var(--fill-color);\n",
              "      border-top-color: var(--fill-color);\n",
              "    }\n",
              "    60% {\n",
              "      border-color: transparent;\n",
              "      border-right-color: var(--fill-color);\n",
              "    }\n",
              "    80% {\n",
              "      border-color: transparent;\n",
              "      border-right-color: var(--fill-color);\n",
              "      border-bottom-color: var(--fill-color);\n",
              "    }\n",
              "    90% {\n",
              "      border-color: transparent;\n",
              "      border-bottom-color: var(--fill-color);\n",
              "    }\n",
              "  }\n",
              "</style>\n",
              "\n",
              "  <script>\n",
              "    async function quickchart(key) {\n",
              "      const quickchartButtonEl =\n",
              "        document.querySelector('#' + key + ' button');\n",
              "      quickchartButtonEl.disabled = true;  // To prevent multiple clicks.\n",
              "      quickchartButtonEl.classList.add('colab-df-spinner');\n",
              "      try {\n",
              "        const charts = await google.colab.kernel.invokeFunction(\n",
              "            'suggestCharts', [key], {});\n",
              "      } catch (error) {\n",
              "        console.error('Error during call to suggestCharts:', error);\n",
              "      }\n",
              "      quickchartButtonEl.classList.remove('colab-df-spinner');\n",
              "      quickchartButtonEl.classList.add('colab-df-quickchart-complete');\n",
              "    }\n",
              "    (() => {\n",
              "      let quickchartButtonEl =\n",
              "        document.querySelector('#df-45e4f279-14ec-4d1e-8341-3323b8ad90d6 button');\n",
              "      quickchartButtonEl.style.display =\n",
              "        google.colab.kernel.accessAllowed ? 'block' : 'none';\n",
              "    })();\n",
              "  </script>\n",
              "</div>\n",
              "\n",
              "    </div>\n",
              "  </div>\n"
            ],
            "application/vnd.google.colaboratory.intrinsic+json": {
              "type": "dataframe",
              "variable_name": "df_pickle"
            }
          },
          "metadata": {},
          "execution_count": 6
        }
      ]
    },
    {
      "cell_type": "code",
      "source": [
        "# Chemin complet vers le fichier CSV\n",
        "Data = pd.read_csv(r\"/content/Data_base2021.csv\", sep=';')\n",
        "\n",
        "# Calculer les pourcentages de chaque culture\n",
        "culture_counts = Data['Cultures'].value_counts()\n",
        "culture_percentages = culture_counts / culture_counts.sum() * 100\n",
        "\n",
        "# Créer un diagramme en barres avec des couleurs distinctes\n",
        "plt.figure(figsize=(10, 6))\n",
        "bars = plt.bar(culture_counts.index, culture_counts, color=plt.cm.tab20.colors[:len(culture_counts)])\n",
        "\n",
        "# Ajouter les pourcentages sur les barres\n",
        "for bar, percentage in zip(bars, culture_percentages):\n",
        "    plt.text(\n",
        "        bar.get_x() + bar.get_width() / 2,\n",
        "        bar.get_height(),\n",
        "        f'{percentage:.1f}%',\n",
        "        ha='center',\n",
        "        va='bottom'\n",
        "    )\n",
        "\n",
        "# Ajouter les titres et étiquettes\n",
        "plt.title(\"Types d'occupations du sol en 2021\")\n",
        "plt.xlabel('Occupations du sol')\n",
        "plt.xticks(rotation=45)\n",
        "plt.show()"
      ],
      "metadata": {
        "colab": {
          "base_uri": "https://localhost:8080/",
          "height": 630
        },
        "id": "_EIuoSJEf8JX",
        "outputId": "b31c8c80-d546-48c9-b368-a98a0f95d3fa"
      },
      "execution_count": 7,
      "outputs": [
        {
          "output_type": "display_data",
          "data": {
            "text/plain": [
              "<Figure size 1000x600 with 1 Axes>"
            ],
            "image/png": "[encoded data removed]"
          },
          "metadata": {}
        }
      ]
    },
    {
      "cell_type": "code",
      "source": [
        "# Initialisation des encodages\n",
        "label_encoder =LabelEncoder()\n",
        "df_pickle['CulturesEncoded']= label_encoder.fit_transform(df_pickle['Cultures'])\n",
        "\n",
        "df_pickle ['CulturesEncoded'].unique()"
      ],
      "metadata": {
        "colab": {
          "base_uri": "https://localhost:8080/"
        },
        "id": "738963zdg6Gh",
        "outputId": "ebd8e01a-2148-4b45-be6e-5b7136bb8f79"
      },
      "execution_count": 15,
      "outputs": [
        {
          "output_type": "execute_result",
          "data": {
            "text/plain": [
              "array([1, 4, 3, 6, 5, 2, 0, 7])"
            ]
          },
          "metadata": {},
          "execution_count": 15
        }
      ]
    },
    {
      "cell_type": "code",
      "source": [
        "# Stratifie l'échantillonnage sur la colonne des cultures\n",
        "df_tab_split = []\n",
        "for cultType in df_pickle['Cultures'].unique():\n",
        "    df_tab_split.append(df_pickle[df_pickle['Cultures'] == cultType])"
      ],
      "metadata": {
        "id": "4bsBLJ9_gMXP"
      },
      "execution_count": 16,
      "outputs": []
    },
    {
      "cell_type": "code",
      "source": [
        "# Optimisation de la taille de l'échantillon par 10 | frac 10\n",
        "rdSeed = 42\n",
        "for c in range(len(df_tab_split)):\n",
        "    df_tab_split[c] = df_tab_split[c].sample(frac=10, random_state=rdSeed, replace=True) #shuffleling each samples per class\n",
        "    print('Classe {0} -- {1} samples -- {2} %'.format('('+df_pickle['Cultures'].unique()[c]+')', len(df_tab_split[c]),  round((len(df_tab_split[c])/len(df_pickle))*100, 2)))"
      ],
      "metadata": {
        "colab": {
          "base_uri": "https://localhost:8080/"
        },
        "id": "NTwMt8awgN6o",
        "outputId": "ef0fe8af-5eff-450c-cc85-5702f1fd6d21"
      },
      "execution_count": 17,
      "outputs": [
        {
          "output_type": "stream",
          "name": "stdout",
          "text": [
            "Classe (Blé) -- 9880 samples -- 495.49 %\n",
            "Classe (Maïs) -- 4280 samples -- 214.64 %\n",
            "Classe (Fourrage) -- 1500 samples -- 75.23 %\n",
            "Classe (Tournesol) -- 2060 samples -- 103.31 %\n",
            "Classe (Orge) -- 1100 samples -- 55.17 %\n",
            "Classe (Colza) -- 470 samples -- 23.57 %\n",
            "Classe (Autres céréals) -- 600 samples -- 30.09 %\n",
            "Classe (Vignes) -- 50 samples -- 2.51 %\n"
          ]
        }
      ]
    },
    {
      "cell_type": "code",
      "source": [
        "# Definition de la taille des train, validation et scrore csv\n",
        "trainSplitPercent = 0.5\n",
        "valSplitPercent = 0.3\n",
        "scoreSplitPercent = 0.2\n",
        "\n",
        "traindfs = []\n",
        "valdsf = []\n",
        "scoredf = []\n",
        "\n",
        "for c in range(len(df_tab_split)):\n",
        "    traindfs.append(df_tab_split[c][0:round(len(df_tab_split[c])*trainSplitPercent)])\n",
        "    valdsf.append(df_tab_split[c][round(len(df_tab_split[c])*trainSplitPercent) : round(len(df_tab_split[c])*(trainSplitPercent+valSplitPercent))])\n",
        "    scoredf.append(df_tab_split[c][round(len(df_tab_split[c])*(trainSplitPercent+valSplitPercent)):])\n",
        "\n",
        "trainCSV = pd.concat(traindfs).sample(frac=1) #concat et shuffle à nouveau\n",
        "valCSV = pd.concat(valdsf).sample(frac=1)\n",
        "scoreCSV = pd.concat(scoredf).sample(frac=1)\n",
        "\n",
        "print(\"len(trainCSV) : \", len(trainCSV))\n",
        "print(\"len(valCSV) : \", len(valCSV))\n",
        "print(\"len(scoreCSV) : \", len(scoreCSV))"
      ],
      "metadata": {
        "colab": {
          "base_uri": "https://localhost:8080/"
        },
        "id": "z9i-xxRYgVXR",
        "outputId": "0e51dde5-d371-452b-c125-ced4bb4922df"
      },
      "execution_count": 18,
      "outputs": [
        {
          "output_type": "stream",
          "name": "stdout",
          "text": [
            "len(trainCSV) :  9970\n",
            "len(valCSV) :  5982\n",
            "len(scoreCSV) :  3988\n"
          ]
        }
      ]
    },
    {
      "cell_type": "code",
      "source": [
        "# Taille des échantillons train\n",
        "for c in range(len(trainCSV['Cultures'].unique())):\n",
        "    print('Classe {0} -- {1} samples -- {2} %'.format('('+trainCSV['Cultures'].unique()[c]+')', len(trainCSV['Cultures'][trainCSV['Cultures'] == trainCSV['Cultures'].unique()[c]]), round((100*len(trainCSV['Cultures'][trainCSV['Cultures'] == trainCSV['Cultures'].unique()[c]]))/(len(trainCSV)), 2)) )"
      ],
      "metadata": {
        "colab": {
          "base_uri": "https://localhost:8080/"
        },
        "id": "WKS4wBL9gYrv",
        "outputId": "0e6d4975-4a17-4287-dd60-30d7a0591375"
      },
      "execution_count": 19,
      "outputs": [
        {
          "output_type": "stream",
          "name": "stdout",
          "text": [
            "Classe (Blé) -- 4940 samples -- 49.55 %\n",
            "Classe (Maïs) -- 2140 samples -- 21.46 %\n",
            "Classe (Orge) -- 550 samples -- 5.52 %\n",
            "Classe (Tournesol) -- 1030 samples -- 10.33 %\n",
            "Classe (Autres céréals) -- 300 samples -- 3.01 %\n",
            "Classe (Fourrage) -- 750 samples -- 7.52 %\n",
            "Classe (Colza) -- 235 samples -- 2.36 %\n",
            "Classe (Vignes) -- 25 samples -- 0.25 %\n"
          ]
        }
      ]
    },
    {
      "cell_type": "code",
      "source": [
        "# Hyper-paramètres\n",
        "BATCH_SIZE = 16\n",
        "NUM_EPOCHS = 100\n",
        "REDUCE_LERNING_RATE = 5\n",
        "EARLY_STOPPING = 10\n",
        "INITIAL_LEARNING_RATE = 1e-3"
      ],
      "metadata": {
        "id": "F5ft0mjpgjOA"
      },
      "execution_count": 20,
      "outputs": []
    },
    {
      "cell_type": "code",
      "source": [
        "# Initialisation de la Classe __init__ | Initialisation des attributs de l'instance et configuration du DataLoader\n",
        "class ParcelleIdentificationDataLoader(tf.keras.utils.Sequence):\n",
        "    def __init__(self, csvdf, batch_size, num_classes, mode='train'):\n",
        "        super().__init__()\n",
        "\n",
        "        self.csvdf = csvdf\n",
        "        self.batch_size = batch_size\n",
        "        self.num_classes = num_classes\n",
        "\n",
        "        self.timeSteps = 365\n",
        "\n",
        "        self.mode = mode\n",
        "        self.shuffle = False\n",
        "        if(self.mode == 'train'):\n",
        "            self.shuffle == True\n",
        "\n",
        "        self.on_epoch_end()\n",
        "\n",
        "# Calcul du Nombre de Batches __len__ | Retourne le nombre de lots (batch) par époque\n",
        "    def __len__(self):\n",
        "        bpe = int(np.ceil(len(self.csvdf)/self.batch_size))\n",
        "        return bpe\n",
        "\n",
        "# Récupération des Données par Batch __getitem__ | Récupèration des données pour un batch donné !\n",
        "    def __getitem__(self, index):\n",
        "        #get indexes for batch\n",
        "        idx = self.indexes[index*self.batch_size:(index+1)*self.batch_size]\n",
        "\n",
        "        x_numerical = np.full((len(idx), self.timeSteps, 1), -1.0).astype(np.float32) #[batchSize, NumberOfTimeSteps, numFeatures] #1 as only ndvi is used\n",
        "        y_numerical = np.zeros((len(idx), self.num_classes)).astype(np.float32) # 11 as we have 11 output classes\n",
        "\n",
        "        #load data\n",
        "        for i, idx_val in enumerate(idx):\n",
        "            df_row = self.csvdf.iloc[idx_val] #get idx_val corresponding row in dataframe\n",
        "\n",
        "            y_numerical[i] = tf.keras.utils.to_categorical(df_row['CulturesEncoded'], num_classes=self.num_classes) #target, label\n",
        "\n",
        "            #change nan values to -1\n",
        "            df_row = df_row.replace([np.inf, -np.inf], np.nan)\n",
        "            df_row = df_row.fillna(-1)\n",
        "\n",
        "            for r in range(1, self.timeSteps): #len(dfCSV_step)\n",
        "                featureValue = df_row[str(r+1)]\n",
        "                x_numerical[i, r, 0] = round(featureValue, 4)\n",
        "\n",
        "        x = x_numerical\n",
        "        y = y_numerical\n",
        "\n",
        "        if(self.mode == 'predict'):\n",
        "            return (x, )\n",
        "        else:\n",
        "            return (x, y)\n",
        "\n",
        "# Gestion de la Fin d'Époque on_epoch_end | Fin de chaque intération\n",
        "    def on_epoch_end(self):\n",
        "        self.indexes = np.arange(len(self.csvdf))\n",
        "        if(self.shuffle == True):\n",
        "            np.random.shuffle(self.indexes)"
      ],
      "metadata": {
        "id": "3XXhd0QkgmmP"
      },
      "execution_count": 21,
      "outputs": []
    },
    {
      "source": [
        "# Définition de l'Entrée inputNumerical\n",
        "from tensorflow.keras.layers import Input, Dense, Dropout, Flatten, Conv1D # This line imports necessary layers\n",
        "inputNumerical = Input(shape=(365, 1, ))\n",
        "\n",
        "# Couches de Convolution conv1 et conv2\n",
        "conv1 = Conv1D(32, kernel_size=3, activation='relu')(inputNumerical)\n",
        "conv2 = Conv1D(32, kernel_size=3, activation='relu')(conv1)\n",
        "\n",
        "# Aplatissement de la Sortie flat_w\n",
        "flat_w = Flatten()(conv2)\n",
        "\n",
        "# Couches de Dropout et Dense drop1 et dense1_w\n",
        "drop1 = Dropout(0.1)(flat_w)\n",
        "dense1_w = Dense(64, activation='relu', name='dense1_w')(drop1)\n",
        "\n",
        "# Sortie du Modèle dense_out\n",
        "dense_out= Dense(11, activation='softmax', name='dense_out')(dense1_w)\n",
        "\n",
        "# Création et Résumé du Modèle\n",
        "model = Model(inputs=inputNumerical, outputs=dense_out)\n",
        "model.summary()"
      ],
      "cell_type": "code",
      "metadata": {
        "colab": {
          "base_uri": "https://localhost:8080/",
          "height": 368
        },
        "id": "MQtf_xwehXar",
        "outputId": "c2ce61ac-dc2d-4775-96cf-dbb428f1770f"
      },
      "execution_count": 23,
      "outputs": [
        {
          "output_type": "display_data",
          "data": {
            "text/plain": [
              "\u001b[1mModel: \"functional\"\u001b[0m\n"
            ],
            "text/html": [
              "<pre style=\"white-space:pre;overflow-x:auto;line-height:normal;font-family:Menlo,'DejaVu Sans Mono',consolas,'Courier New',monospace\"><span style=\"font-weight: bold\">Model: \"functional\"</span>\n",
              "</pre>\n"
            ]
          },
          "metadata": {}
        },
        {
          "output_type": "display_data",
          "data": {
            "text/plain": [
              "┏━━━━━━━━━━━━━━━━━━━━━━━━━━━━━━━━━━━━━━┳━━━━━━━━━━━━━━━━━━━━━━━━━━━━━┳━━━━━━━━━━━━━━━━━┓\n",
              "┃\u001b[1m \u001b[0m\u001b[1mLayer (type)                        \u001b[0m\u001b[1m \u001b[0m┃\u001b[1m \u001b[0m\u001b[1mOutput Shape               \u001b[0m\u001b[1m \u001b[0m┃\u001b[1m \u001b[0m\u001b[1m        Param #\u001b[0m\u001b[1m \u001b[0m┃\n",
              "┡━━━━━━━━━━━━━━━━━━━━━━━━━━━━━━━━━━━━━━╇━━━━━━━━━━━━━━━━━━━━━━━━━━━━━╇━━━━━━━━━━━━━━━━━┩\n",
              "│ input_layer (\u001b[38;5;33mInputLayer\u001b[0m)             │ (\u001b[38;5;45mNone\u001b[0m, \u001b[38;5;34m365\u001b[0m, \u001b[38;5;34m1\u001b[0m)              │               \u001b[38;5;34m0\u001b[0m │\n",
              "├──────────────────────────────────────┼─────────────────────────────┼─────────────────┤\n",
              "│ conv1d (\u001b[38;5;33mConv1D\u001b[0m)                      │ (\u001b[38;5;45mNone\u001b[0m, \u001b[38;5;34m363\u001b[0m, \u001b[38;5;34m32\u001b[0m)             │             \u001b[38;5;34m128\u001b[0m │\n",
              "├──────────────────────────────────────┼─────────────────────────────┼─────────────────┤\n",
              "│ conv1d_1 (\u001b[38;5;33mConv1D\u001b[0m)                    │ (\u001b[38;5;45mNone\u001b[0m, \u001b[38;5;34m361\u001b[0m, \u001b[38;5;34m32\u001b[0m)             │           \u001b[38;5;34m3,104\u001b[0m │\n",
              "├──────────────────────────────────────┼─────────────────────────────┼─────────────────┤\n",
              "│ flatten (\u001b[38;5;33mFlatten\u001b[0m)                    │ (\u001b[38;5;45mNone\u001b[0m, \u001b[38;5;34m11552\u001b[0m)               │               \u001b[38;5;34m0\u001b[0m │\n",
              "├──────────────────────────────────────┼─────────────────────────────┼─────────────────┤\n",
              "│ dropout (\u001b[38;5;33mDropout\u001b[0m)                    │ (\u001b[38;5;45mNone\u001b[0m, \u001b[38;5;34m11552\u001b[0m)               │               \u001b[38;5;34m0\u001b[0m │\n",
              "├──────────────────────────────────────┼─────────────────────────────┼─────────────────┤\n",
              "│ dense1_w (\u001b[38;5;33mDense\u001b[0m)                     │ (\u001b[38;5;45mNone\u001b[0m, \u001b[38;5;34m64\u001b[0m)                  │         \u001b[38;5;34m739,392\u001b[0m │\n",
              "├──────────────────────────────────────┼─────────────────────────────┼─────────────────┤\n",
              "│ dense_out (\u001b[38;5;33mDense\u001b[0m)                    │ (\u001b[38;5;45mNone\u001b[0m, \u001b[38;5;34m11\u001b[0m)                  │             \u001b[38;5;34m715\u001b[0m │\n",
              "└──────────────────────────────────────┴─────────────────────────────┴─────────────────┘\n"
            ],
            "text/html": [
              "<pre style=\"white-space:pre;overflow-x:auto;line-height:normal;font-family:Menlo,'DejaVu Sans Mono',consolas,'Courier New',monospace\">┏━━━━━━━━━━━━━━━━━━━━━━━━━━━━━━━━━━━━━━┳━━━━━━━━━━━━━━━━━━━━━━━━━━━━━┳━━━━━━━━━━━━━━━━━┓\n",
              "┃<span style=\"font-weight: bold\"> Layer (type)                         </span>┃<span style=\"font-weight: bold\"> Output Shape                </span>┃<span style=\"font-weight: bold\">         Param # </span>┃\n",
              "┡━━━━━━━━━━━━━━━━━━━━━━━━━━━━━━━━━━━━━━╇━━━━━━━━━━━━━━━━━━━━━━━━━━━━━╇━━━━━━━━━━━━━━━━━┩\n",
              "│ input_layer (<span style=\"color: #0087ff; text-decoration-color: #0087ff\">InputLayer</span>)             │ (<span style=\"color: #00d7ff; text-decoration-color: #00d7ff\">None</span>, <span style=\"color: #00af00; text-decoration-color: #00af00\">365</span>, <span style=\"color: #00af00; text-decoration-color: #00af00\">1</span>)              │               <span style=\"color: #00af00; text-decoration-color: #00af00\">0</span> │\n",
              "├──────────────────────────────────────┼─────────────────────────────┼─────────────────┤\n",
              "│ conv1d (<span style=\"color: #0087ff; text-decoration-color: #0087ff\">Conv1D</span>)                      │ (<span style=\"color: #00d7ff; text-decoration-color: #00d7ff\">None</span>, <span style=\"color: #00af00; text-decoration-color: #00af00\">363</span>, <span style=\"color: #00af00; text-decoration-color: #00af00\">32</span>)             │             <span style=\"color: #00af00; text-decoration-color: #00af00\">128</span> │\n",
              "├──────────────────────────────────────┼─────────────────────────────┼─────────────────┤\n",
              "│ conv1d_1 (<span style=\"color: #0087ff; text-decoration-color: #0087ff\">Conv1D</span>)                    │ (<span style=\"color: #00d7ff; text-decoration-color: #00d7ff\">None</span>, <span style=\"color: #00af00; text-decoration-color: #00af00\">361</span>, <span style=\"color: #00af00; text-decoration-color: #00af00\">32</span>)             │           <span style=\"color: #00af00; text-decoration-color: #00af00\">3,104</span> │\n",
              "├──────────────────────────────────────┼─────────────────────────────┼─────────────────┤\n",
              "│ flatten (<span style=\"color: #0087ff; text-decoration-color: #0087ff\">Flatten</span>)                    │ (<span style=\"color: #00d7ff; text-decoration-color: #00d7ff\">None</span>, <span style=\"color: #00af00; text-decoration-color: #00af00\">11552</span>)               │               <span style=\"color: #00af00; text-decoration-color: #00af00\">0</span> │\n",
              "├──────────────────────────────────────┼─────────────────────────────┼─────────────────┤\n",
              "│ dropout (<span style=\"color: #0087ff; text-decoration-color: #0087ff\">Dropout</span>)                    │ (<span style=\"color: #00d7ff; text-decoration-color: #00d7ff\">None</span>, <span style=\"color: #00af00; text-decoration-color: #00af00\">11552</span>)               │               <span style=\"color: #00af00; text-decoration-color: #00af00\">0</span> │\n",
              "├──────────────────────────────────────┼─────────────────────────────┼─────────────────┤\n",
              "│ dense1_w (<span style=\"color: #0087ff; text-decoration-color: #0087ff\">Dense</span>)                     │ (<span style=\"color: #00d7ff; text-decoration-color: #00d7ff\">None</span>, <span style=\"color: #00af00; text-decoration-color: #00af00\">64</span>)                  │         <span style=\"color: #00af00; text-decoration-color: #00af00\">739,392</span> │\n",
              "├──────────────────────────────────────┼─────────────────────────────┼─────────────────┤\n",
              "│ dense_out (<span style=\"color: #0087ff; text-decoration-color: #0087ff\">Dense</span>)                    │ (<span style=\"color: #00d7ff; text-decoration-color: #00d7ff\">None</span>, <span style=\"color: #00af00; text-decoration-color: #00af00\">11</span>)                  │             <span style=\"color: #00af00; text-decoration-color: #00af00\">715</span> │\n",
              "└──────────────────────────────────────┴─────────────────────────────┴─────────────────┘\n",
              "</pre>\n"
            ]
          },
          "metadata": {}
        },
        {
          "output_type": "display_data",
          "data": {
            "text/plain": [
              "\u001b[1m Total params: \u001b[0m\u001b[38;5;34m743,339\u001b[0m (2.84 MB)\n"
            ],
            "text/html": [
              "<pre style=\"white-space:pre;overflow-x:auto;line-height:normal;font-family:Menlo,'DejaVu Sans Mono',consolas,'Courier New',monospace\"><span style=\"font-weight: bold\"> Total params: </span><span style=\"color: #00af00; text-decoration-color: #00af00\">743,339</span> (2.84 MB)\n",
              "</pre>\n"
            ]
          },
          "metadata": {}
        },
        {
          "output_type": "display_data",
          "data": {
            "text/plain": [
              "\u001b[1m Trainable params: \u001b[0m\u001b[38;5;34m743,339\u001b[0m (2.84 MB)\n"
            ],
            "text/html": [
              "<pre style=\"white-space:pre;overflow-x:auto;line-height:normal;font-family:Menlo,'DejaVu Sans Mono',consolas,'Courier New',monospace\"><span style=\"font-weight: bold\"> Trainable params: </span><span style=\"color: #00af00; text-decoration-color: #00af00\">743,339</span> (2.84 MB)\n",
              "</pre>\n"
            ]
          },
          "metadata": {}
        },
        {
          "output_type": "display_data",
          "data": {
            "text/plain": [
              "\u001b[1m Non-trainable params: \u001b[0m\u001b[38;5;34m0\u001b[0m (0.00 B)\n"
            ],
            "text/html": [
              "<pre style=\"white-space:pre;overflow-x:auto;line-height:normal;font-family:Menlo,'DejaVu Sans Mono',consolas,'Courier New',monospace\"><span style=\"font-weight: bold\"> Non-trainable params: </span><span style=\"color: #00af00; text-decoration-color: #00af00\">0</span> (0.00 B)\n",
              "</pre>\n"
            ]
          },
          "metadata": {}
        }
      ]
    },
    {
      "cell_type": "code",
      "source": [
        "model.compile(loss=tf.keras.losses.CategoricalCrossentropy(from_logits=False), optimizer=tf.keras.optimizers.SGD(learning_rate=INITIAL_LEARNING_RATE, momentum=0.9), metrics=['accuracy']) #, momentum=0.9 # loss_weights=weightloss SGD , momentum=0.7\n",
        "# Si possible calculer le poids de CategoricalCrossentropy"
      ],
      "metadata": {
        "id": "dRO0pxd_hoiI"
      },
      "execution_count": 24,
      "outputs": []
    },
    {
      "cell_type": "code",
      "source": [
        "# Enregistrer le modèle optimal\n",
        "callback0 = tf.keras.callbacks.ModelCheckpoint(\n",
        "    filepath=\"./modelEddie2021.keras\",\n",
        "    monitor='val_loss',\n",
        "    save_best_only=True\n",
        ")\n",
        "\n",
        "# Réduire le taux d'apprentissage | si le modèle ne s'améliore pas\n",
        "callback1 = tf.keras.callbacks.ReduceLROnPlateau(\n",
        "    monitor='val_loss',\n",
        "    factor=0.1,\n",
        "    patience=REDUCE_LERNING_RATE\n",
        ")\n",
        "\n",
        "# Arrêt de l'entraînement si le modèle cesse de s'améliorer\n",
        "callback2 = tf.keras.callbacks.EarlyStopping(\n",
        "    monitor='val_loss',\n",
        "    patience=EARLY_STOPPING\n",
        ")"
      ],
      "metadata": {
        "id": "KzwI86uDhuGJ"
      },
      "execution_count": 25,
      "outputs": []
    },
    {
      "cell_type": "code",
      "source": [
        "# Création des générateurs de données\n",
        "train_generator = ParcelleIdentificationDataLoader(trainCSV, BATCH_SIZE, 11, mode='train')\n",
        "valid_generator = ParcelleIdentificationDataLoader(valCSV, BATCH_SIZE, 11, mode='test')"
      ],
      "metadata": {
        "id": "ExYwNFiqhyLJ"
      },
      "execution_count": 26,
      "outputs": []
    },
    {
      "cell_type": "code",
      "source": [
        "# Entraînement du modèle\n",
        "hist = model.fit(train_generator, validation_data=valid_generator, epochs=NUM_EPOCHS, callbacks=[callback0, callback1, callback2], shuffle=False)"
      ],
      "metadata": {
        "colab": {
          "base_uri": "https://localhost:8080/"
        },
        "id": "gpkaGAcIh0hi",
        "outputId": "d53c87a8-3380-4013-e031-feb29db3fccd"
      },
      "execution_count": null,
      "outputs": [
        {
          "output_type": "stream",
          "name": "stdout",
          "text": [
            "Epoch 1/100\n",
            "\u001b[1m624/624\u001b[0m \u001b[32m━━━━━━━━━━━━━━━━━━━━\u001b[0m\u001b[37m\u001b[0m \u001b[1m106s\u001b[0m 168ms/step - accuracy: 0.4776 - loss: 1.6654 - val_accuracy: 0.4947 - val_loss: 1.4711 - learning_rate: 0.0010\n",
            "Epoch 2/100\n",
            "\u001b[1m624/624\u001b[0m \u001b[32m━━━━━━━━━━━━━━━━━━━━\u001b[0m\u001b[37m\u001b[0m \u001b[1m87s\u001b[0m 140ms/step - accuracy: 0.4965 - loss: 1.4777 - val_accuracy: 0.4941 - val_loss: 1.4582 - learning_rate: 0.0010\n",
            "Epoch 3/100\n",
            "\u001b[1m624/624\u001b[0m \u001b[32m━━━━━━━━━━━━━━━━━━━━\u001b[0m\u001b[37m\u001b[0m \u001b[1m85s\u001b[0m 136ms/step - accuracy: 0.4955 - loss: 1.4634 - val_accuracy: 0.4978 - val_loss: 1.4429 - learning_rate: 0.0010\n",
            "Epoch 4/100\n",
            "\u001b[1m624/624\u001b[0m \u001b[32m━━━━━━━━━━━━━━━━━━━━\u001b[0m\u001b[37m\u001b[0m \u001b[1m89s\u001b[0m 143ms/step - accuracy: 0.4947 - loss: 1.4471 - val_accuracy: 0.4950 - val_loss: 1.4317 - learning_rate: 0.0010\n",
            "Epoch 5/100\n",
            "\u001b[1m624/624\u001b[0m \u001b[32m━━━━━━━━━━━━━━━━━━━━\u001b[0m\u001b[37m\u001b[0m \u001b[1m98s\u001b[0m 157ms/step - accuracy: 0.4937 - loss: 1.4357 - val_accuracy: 0.5020 - val_loss: 1.4241 - learning_rate: 0.0010\n",
            "Epoch 6/100\n",
            "\u001b[1m624/624\u001b[0m \u001b[32m━━━━━━━━━━━━━━━━━━━━\u001b[0m\u001b[37m\u001b[0m \u001b[1m83s\u001b[0m 134ms/step - accuracy: 0.4972 - loss: 1.4268 - val_accuracy: 0.5050 - val_loss: 1.4185 - learning_rate: 0.0010\n",
            "Epoch 7/100\n",
            "\u001b[1m624/624\u001b[0m \u001b[32m━━━━━━━━━━━━━━━━━━━━\u001b[0m\u001b[37m\u001b[0m \u001b[1m85s\u001b[0m 135ms/step - accuracy: 0.4972 - loss: 1.4179 - val_accuracy: 0.5018 - val_loss: 1.4127 - learning_rate: 0.0010\n",
            "Epoch 8/100\n",
            "\u001b[1m624/624\u001b[0m \u001b[32m━━━━━━━━━━━━━━━━━━━━\u001b[0m\u001b[37m\u001b[0m \u001b[1m86s\u001b[0m 139ms/step - accuracy: 0.4961 - loss: 1.4118 - val_accuracy: 0.5025 - val_loss: 1.4081 - learning_rate: 0.0010\n",
            "Epoch 9/100\n",
            "\u001b[1m624/624\u001b[0m \u001b[32m━━━━━━━━━━━━━━━━━━━━\u001b[0m\u001b[37m\u001b[0m \u001b[1m84s\u001b[0m 134ms/step - accuracy: 0.4981 - loss: 1.4044 - val_accuracy: 0.5035 - val_loss: 1.4027 - learning_rate: 0.0010\n",
            "Epoch 10/100\n",
            "\u001b[1m624/624\u001b[0m \u001b[32m━━━━━━━━━━━━━━━━━━━━\u001b[0m\u001b[37m\u001b[0m \u001b[1m96s\u001b[0m 154ms/step - accuracy: 0.4988 - loss: 1.3974 - val_accuracy: 0.5043 - val_loss: 1.3961 - learning_rate: 0.0010\n",
            "Epoch 11/100\n",
            "\u001b[1m624/624\u001b[0m \u001b[32m━━━━━━━━━━━━━━━━━━━━\u001b[0m\u001b[37m\u001b[0m \u001b[1m84s\u001b[0m 134ms/step - accuracy: 0.4991 - loss: 1.3904 - val_accuracy: 0.5045 - val_loss: 1.3909 - learning_rate: 0.0010\n",
            "Epoch 12/100\n",
            "\u001b[1m624/624\u001b[0m \u001b[32m━━━━━━━━━━━━━━━━━━━━\u001b[0m\u001b[37m\u001b[0m \u001b[1m84s\u001b[0m 134ms/step - accuracy: 0.5022 - loss: 1.3834 - val_accuracy: 0.5065 - val_loss: 1.3868 - learning_rate: 0.0010\n",
            "Epoch 13/100\n",
            "\u001b[1m624/624\u001b[0m \u001b[32m━━━━━━━━━━━━━━━━━━━━\u001b[0m\u001b[37m\u001b[0m \u001b[1m86s\u001b[0m 138ms/step - accuracy: 0.5044 - loss: 1.3760 - val_accuracy: 0.5129 - val_loss: 1.3803 - learning_rate: 0.0010\n",
            "Epoch 14/100\n",
            "\u001b[1m624/624\u001b[0m \u001b[32m━━━━━━━━━━━━━━━━━━━━\u001b[0m\u001b[37m\u001b[0m \u001b[1m88s\u001b[0m 141ms/step - accuracy: 0.5079 - loss: 1.3669 - val_accuracy: 0.5169 - val_loss: 1.3705 - learning_rate: 0.0010\n",
            "Epoch 15/100\n",
            "\u001b[1m624/624\u001b[0m \u001b[32m━━━━━━━━━━━━━━━━━━━━\u001b[0m\u001b[37m\u001b[0m \u001b[1m88s\u001b[0m 141ms/step - accuracy: 0.5108 - loss: 1.3593 - val_accuracy: 0.5177 - val_loss: 1.3640 - learning_rate: 0.0010\n",
            "Epoch 16/100\n",
            "\u001b[1m624/624\u001b[0m \u001b[32m━━━━━━━━━━━━━━━━━━━━\u001b[0m\u001b[37m\u001b[0m \u001b[1m88s\u001b[0m 141ms/step - accuracy: 0.5137 - loss: 1.3508 - val_accuracy: 0.5186 - val_loss: 1.3573 - learning_rate: 0.0010\n",
            "Epoch 17/100\n",
            "\u001b[1m624/624\u001b[0m \u001b[32m━━━━━━━━━━━━━━━━━━━━\u001b[0m\u001b[37m\u001b[0m \u001b[1m85s\u001b[0m 136ms/step - accuracy: 0.5204 - loss: 1.3398 - val_accuracy: 0.5214 - val_loss: 1.3461 - learning_rate: 0.0010\n",
            "Epoch 18/100\n",
            "\u001b[1m624/624\u001b[0m \u001b[32m━━━━━━━━━━━━━━━━━━━━\u001b[0m\u001b[37m\u001b[0m \u001b[1m84s\u001b[0m 134ms/step - accuracy: 0.5218 - loss: 1.3287 - val_accuracy: 0.5226 - val_loss: 1.3383 - learning_rate: 0.0010\n",
            "Epoch 19/100\n",
            "\u001b[1m624/624\u001b[0m \u001b[32m━━━━━━━━━━━━━━━━━━━━\u001b[0m\u001b[37m\u001b[0m \u001b[1m84s\u001b[0m 135ms/step - accuracy: 0.5259 - loss: 1.3183 - val_accuracy: 0.5246 - val_loss: 1.3293 - learning_rate: 0.0010\n",
            "Epoch 20/100\n",
            "\u001b[1m624/624\u001b[0m \u001b[32m━━━━━━━━━━━━━━━━━━━━\u001b[0m\u001b[37m\u001b[0m \u001b[1m85s\u001b[0m 136ms/step - accuracy: 0.5232 - loss: 1.3060 - val_accuracy: 0.5286 - val_loss: 1.3189 - learning_rate: 0.0010\n",
            "Epoch 21/100\n",
            "\u001b[1m624/624\u001b[0m \u001b[32m━━━━━━━━━━━━━━━━━━━━\u001b[0m\u001b[37m\u001b[0m \u001b[1m154s\u001b[0m 155ms/step - accuracy: 0.5285 - loss: 1.2939 - val_accuracy: 0.5306 - val_loss: 1.3039 - learning_rate: 0.0010\n",
            "Epoch 22/100\n",
            "\u001b[1m624/624\u001b[0m \u001b[32m━━━━━━━━━━━━━━━━━━━━\u001b[0m\u001b[37m\u001b[0m \u001b[1m97s\u001b[0m 156ms/step - accuracy: 0.5315 - loss: 1.2818 - val_accuracy: 0.5326 - val_loss: 1.2909 - learning_rate: 0.0010\n",
            "Epoch 23/100\n",
            "\u001b[1m624/624\u001b[0m \u001b[32m━━━━━━━━━━━━━━━━━━━━\u001b[0m\u001b[37m\u001b[0m \u001b[1m142s\u001b[0m 155ms/step - accuracy: 0.5334 - loss: 1.2656 - val_accuracy: 0.5383 - val_loss: 1.2841 - learning_rate: 0.0010\n",
            "Epoch 24/100\n",
            "\u001b[1m624/624\u001b[0m \u001b[32m━━━━━━━━━━━━━━━━━━━━\u001b[0m\u001b[37m\u001b[0m \u001b[1m86s\u001b[0m 138ms/step - accuracy: 0.5370 - loss: 1.2553 - val_accuracy: 0.5451 - val_loss: 1.2679 - learning_rate: 0.0010\n",
            "Epoch 25/100\n",
            "\u001b[1m624/624\u001b[0m \u001b[32m━━━━━━━━━━━━━━━━━━━━\u001b[0m\u001b[37m\u001b[0m \u001b[1m85s\u001b[0m 136ms/step - accuracy: 0.5425 - loss: 1.2359 - val_accuracy: 0.5395 - val_loss: 1.2695 - learning_rate: 0.0010\n",
            "Epoch 26/100\n",
            "\u001b[1m624/624\u001b[0m \u001b[32m━━━━━━━━━━━━━━━━━━━━\u001b[0m\u001b[37m\u001b[0m \u001b[1m97s\u001b[0m 156ms/step - accuracy: 0.5491 - loss: 1.2180 - val_accuracy: 0.5396 - val_loss: 1.2453 - learning_rate: 0.0010\n",
            "Epoch 27/100\n",
            "\u001b[1m624/624\u001b[0m \u001b[32m━━━━━━━━━━━━━━━━━━━━\u001b[0m\u001b[37m\u001b[0m \u001b[1m96s\u001b[0m 154ms/step - accuracy: 0.5532 - loss: 1.1974 - val_accuracy: 0.5373 - val_loss: 1.2475 - learning_rate: 0.0010\n",
            "Epoch 28/100\n",
            "\u001b[1m624/624\u001b[0m \u001b[32m━━━━━━━━━━━━━━━━━━━━\u001b[0m\u001b[37m\u001b[0m \u001b[1m83s\u001b[0m 133ms/step - accuracy: 0.5602 - loss: 1.1783 - val_accuracy: 0.5465 - val_loss: 1.2252 - learning_rate: 0.0010\n",
            "Epoch 29/100\n",
            "\u001b[1m624/624\u001b[0m \u001b[32m━━━━━━━━━━━━━━━━━━━━\u001b[0m\u001b[37m\u001b[0m \u001b[1m84s\u001b[0m 135ms/step - accuracy: 0.5665 - loss: 1.1632 - val_accuracy: 0.5478 - val_loss: 1.2173 - learning_rate: 0.0010\n",
            "Epoch 30/100\n",
            "\u001b[1m624/624\u001b[0m \u001b[32m━━━━━━━━━━━━━━━━━━━━\u001b[0m\u001b[37m\u001b[0m \u001b[1m85s\u001b[0m 136ms/step - accuracy: 0.5786 - loss: 1.1434 - val_accuracy: 0.5614 - val_loss: 1.1929 - learning_rate: 0.0010\n",
            "Epoch 31/100\n",
            "\u001b[1m511/624\u001b[0m \u001b[32m━━━━━━━━━━━━━━━━\u001b[0m\u001b[37m━━━━\u001b[0m \u001b[1m10s\u001b[0m 91ms/step - accuracy: 0.5810 - loss: 1.1338"
          ]
        }
      ]
    }
  ]
}